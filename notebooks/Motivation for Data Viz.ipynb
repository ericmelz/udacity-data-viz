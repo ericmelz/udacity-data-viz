{
 "cells": [
  {
   "cell_type": "markdown",
   "id": "ff479779",
   "metadata": {},
   "source": [
    "# Udacity Data Viz\n",
    "See https://learn.udacity.com/paid-courses/cd12532/lessons/2487324b-b4be-4c30-8ebc-776c4ea4abc6/concepts/6f3874ec-9591-41e3-8021-c975d2db3b94"
   ]
  },
  {
   "cell_type": "code",
   "execution_count": 2,
   "id": "60cef6f1",
   "metadata": {},
   "outputs": [],
   "source": [
    "import pandas as pd\n",
    "from pathlib import Path\n",
    "import os\n",
    "\n"
   ]
  },
  {
   "cell_type": "code",
   "execution_count": 53,
   "id": "503f9dd5",
   "metadata": {},
   "outputs": [],
   "source": [
    "DATA_FILE = Path(os.getcwd()).parent / 'data' / 'anscombes-quartet.xlsx'\n",
    "os.path.exists(DATA_FILE)\n",
    "\n",
    "if not os.path.exists(DATA_FILE):\n",
    "    raise Exception(f\"File doesn't exist: {DATA_FILE}\")"
   ]
  },
  {
   "cell_type": "code",
   "execution_count": 18,
   "id": "a206dd31",
   "metadata": {},
   "outputs": [],
   "source": [
    "SRC_DIRNAME = os.path.join(\"..\", \"data\")\n",
    "SRC_FILE = os.path.join(SRC_DIRNAME, \"anscombes-quartet.xlsx\")\n",
    "\n",
    "\n"
   ]
  },
  {
   "cell_type": "code",
   "execution_count": 19,
   "id": "3c9eaee9",
   "metadata": {},
   "outputs": [
    {
     "data": {
      "text/html": [
       "<div>\n",
       "<style scoped>\n",
       "    .dataframe tbody tr th:only-of-type {\n",
       "        vertical-align: middle;\n",
       "    }\n",
       "\n",
       "    .dataframe tbody tr th {\n",
       "        vertical-align: top;\n",
       "    }\n",
       "\n",
       "    .dataframe thead th {\n",
       "        text-align: right;\n",
       "    }\n",
       "</style>\n",
       "<table border=\"1\" class=\"dataframe\">\n",
       "  <thead>\n",
       "    <tr style=\"text-align: right;\">\n",
       "      <th></th>\n",
       "      <th>X</th>\n",
       "      <th>Y</th>\n",
       "      <th>X.1</th>\n",
       "      <th>Y.1</th>\n",
       "      <th>X.2</th>\n",
       "      <th>Y.2</th>\n",
       "      <th>X.3</th>\n",
       "      <th>Y.3</th>\n",
       "    </tr>\n",
       "  </thead>\n",
       "  <tbody>\n",
       "    <tr>\n",
       "      <th>0</th>\n",
       "      <td>10.0</td>\n",
       "      <td>8.04</td>\n",
       "      <td>10.0</td>\n",
       "      <td>9.14</td>\n",
       "      <td>10.0</td>\n",
       "      <td>7.46</td>\n",
       "      <td>8.0</td>\n",
       "      <td>6.58</td>\n",
       "    </tr>\n",
       "    <tr>\n",
       "      <th>1</th>\n",
       "      <td>8.0</td>\n",
       "      <td>6.95</td>\n",
       "      <td>8.0</td>\n",
       "      <td>8.14</td>\n",
       "      <td>8.0</td>\n",
       "      <td>6.77</td>\n",
       "      <td>8.0</td>\n",
       "      <td>5.76</td>\n",
       "    </tr>\n",
       "    <tr>\n",
       "      <th>2</th>\n",
       "      <td>13.0</td>\n",
       "      <td>7.58</td>\n",
       "      <td>13.0</td>\n",
       "      <td>8.74</td>\n",
       "      <td>13.0</td>\n",
       "      <td>12.74</td>\n",
       "      <td>8.0</td>\n",
       "      <td>7.71</td>\n",
       "    </tr>\n",
       "    <tr>\n",
       "      <th>3</th>\n",
       "      <td>9.0</td>\n",
       "      <td>8.81</td>\n",
       "      <td>9.0</td>\n",
       "      <td>8.77</td>\n",
       "      <td>9.0</td>\n",
       "      <td>7.11</td>\n",
       "      <td>8.0</td>\n",
       "      <td>8.84</td>\n",
       "    </tr>\n",
       "    <tr>\n",
       "      <th>4</th>\n",
       "      <td>11.0</td>\n",
       "      <td>8.33</td>\n",
       "      <td>11.0</td>\n",
       "      <td>9.26</td>\n",
       "      <td>11.0</td>\n",
       "      <td>7.81</td>\n",
       "      <td>8.0</td>\n",
       "      <td>8.47</td>\n",
       "    </tr>\n",
       "    <tr>\n",
       "      <th>5</th>\n",
       "      <td>14.0</td>\n",
       "      <td>9.96</td>\n",
       "      <td>14.0</td>\n",
       "      <td>8.1</td>\n",
       "      <td>14.0</td>\n",
       "      <td>8.84</td>\n",
       "      <td>8.0</td>\n",
       "      <td>7.04</td>\n",
       "    </tr>\n",
       "    <tr>\n",
       "      <th>6</th>\n",
       "      <td>6.0</td>\n",
       "      <td>7.24</td>\n",
       "      <td>6.0</td>\n",
       "      <td>6.13</td>\n",
       "      <td>6.0</td>\n",
       "      <td>6.08</td>\n",
       "      <td>8.0</td>\n",
       "      <td>5.25</td>\n",
       "    </tr>\n",
       "    <tr>\n",
       "      <th>7</th>\n",
       "      <td>4.0</td>\n",
       "      <td>4.26</td>\n",
       "      <td>4.0</td>\n",
       "      <td>3.1</td>\n",
       "      <td>4.0</td>\n",
       "      <td>5.39</td>\n",
       "      <td>19.0</td>\n",
       "      <td>12.50</td>\n",
       "    </tr>\n",
       "    <tr>\n",
       "      <th>8</th>\n",
       "      <td>12.0</td>\n",
       "      <td>10.84</td>\n",
       "      <td>12.0</td>\n",
       "      <td>9.13</td>\n",
       "      <td>12.0</td>\n",
       "      <td>8.15</td>\n",
       "      <td>8.0</td>\n",
       "      <td>5.56</td>\n",
       "    </tr>\n",
       "    <tr>\n",
       "      <th>9</th>\n",
       "      <td>7.0</td>\n",
       "      <td>4.82</td>\n",
       "      <td>7.0</td>\n",
       "      <td>7.26</td>\n",
       "      <td>7.0</td>\n",
       "      <td>6.42</td>\n",
       "      <td>8.0</td>\n",
       "      <td>7.91</td>\n",
       "    </tr>\n",
       "    <tr>\n",
       "      <th>10</th>\n",
       "      <td>5.0</td>\n",
       "      <td>5.68</td>\n",
       "      <td>5.0</td>\n",
       "      <td>4.74</td>\n",
       "      <td>5.0</td>\n",
       "      <td>5.73</td>\n",
       "      <td>8.0</td>\n",
       "      <td>6.89</td>\n",
       "    </tr>\n",
       "    <tr>\n",
       "      <th>11</th>\n",
       "      <td>NaN</td>\n",
       "      <td>NaN</td>\n",
       "      <td>NaN</td>\n",
       "      <td>NaN</td>\n",
       "      <td>NaN</td>\n",
       "      <td>NaN</td>\n",
       "      <td>NaN</td>\n",
       "      <td>NaN</td>\n",
       "    </tr>\n",
       "    <tr>\n",
       "      <th>12</th>\n",
       "      <td>NaN</td>\n",
       "      <td>NaN</td>\n",
       "      <td>NaN</td>\n",
       "      <td>NaN</td>\n",
       "      <td>NaN</td>\n",
       "      <td>NaN</td>\n",
       "      <td>NaN</td>\n",
       "      <td>NaN</td>\n",
       "    </tr>\n",
       "    <tr>\n",
       "      <th>13</th>\n",
       "      <td>NaN</td>\n",
       "      <td>NaN</td>\n",
       "      <td>NaN</td>\n",
       "      <td>NaN</td>\n",
       "      <td>NaN</td>\n",
       "      <td>NaN</td>\n",
       "      <td>NaN</td>\n",
       "      <td>NaN</td>\n",
       "    </tr>\n",
       "    <tr>\n",
       "      <th>14</th>\n",
       "      <td>NaN</td>\n",
       "      <td>NaN</td>\n",
       "      <td>NaN</td>\n",
       "      <td>Make A copy of the data to calculate your stat...</td>\n",
       "      <td>NaN</td>\n",
       "      <td>NaN</td>\n",
       "      <td>NaN</td>\n",
       "      <td>NaN</td>\n",
       "    </tr>\n",
       "  </tbody>\n",
       "</table>\n",
       "</div>"
      ],
      "text/plain": [
       "       X      Y   X.1                                                Y.1  \\\n",
       "0   10.0   8.04  10.0                                               9.14   \n",
       "1    8.0   6.95   8.0                                               8.14   \n",
       "2   13.0   7.58  13.0                                               8.74   \n",
       "3    9.0   8.81   9.0                                               8.77   \n",
       "4   11.0   8.33  11.0                                               9.26   \n",
       "5   14.0   9.96  14.0                                                8.1   \n",
       "6    6.0   7.24   6.0                                               6.13   \n",
       "7    4.0   4.26   4.0                                                3.1   \n",
       "8   12.0  10.84  12.0                                               9.13   \n",
       "9    7.0   4.82   7.0                                               7.26   \n",
       "10   5.0   5.68   5.0                                               4.74   \n",
       "11   NaN    NaN   NaN                                                NaN   \n",
       "12   NaN    NaN   NaN                                                NaN   \n",
       "13   NaN    NaN   NaN                                                NaN   \n",
       "14   NaN    NaN   NaN  Make A copy of the data to calculate your stat...   \n",
       "\n",
       "     X.2    Y.2   X.3    Y.3  \n",
       "0   10.0   7.46   8.0   6.58  \n",
       "1    8.0   6.77   8.0   5.76  \n",
       "2   13.0  12.74   8.0   7.71  \n",
       "3    9.0   7.11   8.0   8.84  \n",
       "4   11.0   7.81   8.0   8.47  \n",
       "5   14.0   8.84   8.0   7.04  \n",
       "6    6.0   6.08   8.0   5.25  \n",
       "7    4.0   5.39  19.0  12.50  \n",
       "8   12.0   8.15   8.0   5.56  \n",
       "9    7.0   6.42   8.0   7.91  \n",
       "10   5.0   5.73   8.0   6.89  \n",
       "11   NaN    NaN   NaN    NaN  \n",
       "12   NaN    NaN   NaN    NaN  \n",
       "13   NaN    NaN   NaN    NaN  \n",
       "14   NaN    NaN   NaN    NaN  "
      ]
     },
     "execution_count": 19,
     "metadata": {},
     "output_type": "execute_result"
    }
   ],
   "source": [
    "df = pd.read_excel(SRC_FILE)\n",
    "df"
   ]
  },
  {
   "cell_type": "code",
   "execution_count": 21,
   "id": "b5a506a6",
   "metadata": {},
   "outputs": [
    {
     "data": {
      "text/html": [
       "<div>\n",
       "<style scoped>\n",
       "    .dataframe tbody tr th:only-of-type {\n",
       "        vertical-align: middle;\n",
       "    }\n",
       "\n",
       "    .dataframe tbody tr th {\n",
       "        vertical-align: top;\n",
       "    }\n",
       "\n",
       "    .dataframe thead th {\n",
       "        text-align: right;\n",
       "    }\n",
       "</style>\n",
       "<table border=\"1\" class=\"dataframe\">\n",
       "  <thead>\n",
       "    <tr style=\"text-align: right;\">\n",
       "      <th></th>\n",
       "      <th>X</th>\n",
       "      <th>Y</th>\n",
       "      <th>X.1</th>\n",
       "      <th>Y.1</th>\n",
       "      <th>X.2</th>\n",
       "      <th>Y.2</th>\n",
       "      <th>X.3</th>\n",
       "      <th>Y.3</th>\n",
       "    </tr>\n",
       "  </thead>\n",
       "  <tbody>\n",
       "    <tr>\n",
       "      <th>0</th>\n",
       "      <td>10.0</td>\n",
       "      <td>8.04</td>\n",
       "      <td>10.0</td>\n",
       "      <td>9.14</td>\n",
       "      <td>10.0</td>\n",
       "      <td>7.46</td>\n",
       "      <td>8.0</td>\n",
       "      <td>6.58</td>\n",
       "    </tr>\n",
       "    <tr>\n",
       "      <th>1</th>\n",
       "      <td>8.0</td>\n",
       "      <td>6.95</td>\n",
       "      <td>8.0</td>\n",
       "      <td>8.14</td>\n",
       "      <td>8.0</td>\n",
       "      <td>6.77</td>\n",
       "      <td>8.0</td>\n",
       "      <td>5.76</td>\n",
       "    </tr>\n",
       "    <tr>\n",
       "      <th>2</th>\n",
       "      <td>13.0</td>\n",
       "      <td>7.58</td>\n",
       "      <td>13.0</td>\n",
       "      <td>8.74</td>\n",
       "      <td>13.0</td>\n",
       "      <td>12.74</td>\n",
       "      <td>8.0</td>\n",
       "      <td>7.71</td>\n",
       "    </tr>\n",
       "    <tr>\n",
       "      <th>3</th>\n",
       "      <td>9.0</td>\n",
       "      <td>8.81</td>\n",
       "      <td>9.0</td>\n",
       "      <td>8.77</td>\n",
       "      <td>9.0</td>\n",
       "      <td>7.11</td>\n",
       "      <td>8.0</td>\n",
       "      <td>8.84</td>\n",
       "    </tr>\n",
       "    <tr>\n",
       "      <th>4</th>\n",
       "      <td>11.0</td>\n",
       "      <td>8.33</td>\n",
       "      <td>11.0</td>\n",
       "      <td>9.26</td>\n",
       "      <td>11.0</td>\n",
       "      <td>7.81</td>\n",
       "      <td>8.0</td>\n",
       "      <td>8.47</td>\n",
       "    </tr>\n",
       "    <tr>\n",
       "      <th>5</th>\n",
       "      <td>14.0</td>\n",
       "      <td>9.96</td>\n",
       "      <td>14.0</td>\n",
       "      <td>8.1</td>\n",
       "      <td>14.0</td>\n",
       "      <td>8.84</td>\n",
       "      <td>8.0</td>\n",
       "      <td>7.04</td>\n",
       "    </tr>\n",
       "    <tr>\n",
       "      <th>6</th>\n",
       "      <td>6.0</td>\n",
       "      <td>7.24</td>\n",
       "      <td>6.0</td>\n",
       "      <td>6.13</td>\n",
       "      <td>6.0</td>\n",
       "      <td>6.08</td>\n",
       "      <td>8.0</td>\n",
       "      <td>5.25</td>\n",
       "    </tr>\n",
       "    <tr>\n",
       "      <th>7</th>\n",
       "      <td>4.0</td>\n",
       "      <td>4.26</td>\n",
       "      <td>4.0</td>\n",
       "      <td>3.1</td>\n",
       "      <td>4.0</td>\n",
       "      <td>5.39</td>\n",
       "      <td>19.0</td>\n",
       "      <td>12.50</td>\n",
       "    </tr>\n",
       "    <tr>\n",
       "      <th>8</th>\n",
       "      <td>12.0</td>\n",
       "      <td>10.84</td>\n",
       "      <td>12.0</td>\n",
       "      <td>9.13</td>\n",
       "      <td>12.0</td>\n",
       "      <td>8.15</td>\n",
       "      <td>8.0</td>\n",
       "      <td>5.56</td>\n",
       "    </tr>\n",
       "    <tr>\n",
       "      <th>9</th>\n",
       "      <td>7.0</td>\n",
       "      <td>4.82</td>\n",
       "      <td>7.0</td>\n",
       "      <td>7.26</td>\n",
       "      <td>7.0</td>\n",
       "      <td>6.42</td>\n",
       "      <td>8.0</td>\n",
       "      <td>7.91</td>\n",
       "    </tr>\n",
       "    <tr>\n",
       "      <th>10</th>\n",
       "      <td>5.0</td>\n",
       "      <td>5.68</td>\n",
       "      <td>5.0</td>\n",
       "      <td>4.74</td>\n",
       "      <td>5.0</td>\n",
       "      <td>5.73</td>\n",
       "      <td>8.0</td>\n",
       "      <td>6.89</td>\n",
       "    </tr>\n",
       "  </tbody>\n",
       "</table>\n",
       "</div>"
      ],
      "text/plain": [
       "       X      Y   X.1   Y.1   X.2    Y.2   X.3    Y.3\n",
       "0   10.0   8.04  10.0  9.14  10.0   7.46   8.0   6.58\n",
       "1    8.0   6.95   8.0  8.14   8.0   6.77   8.0   5.76\n",
       "2   13.0   7.58  13.0  8.74  13.0  12.74   8.0   7.71\n",
       "3    9.0   8.81   9.0  8.77   9.0   7.11   8.0   8.84\n",
       "4   11.0   8.33  11.0  9.26  11.0   7.81   8.0   8.47\n",
       "5   14.0   9.96  14.0   8.1  14.0   8.84   8.0   7.04\n",
       "6    6.0   7.24   6.0  6.13   6.0   6.08   8.0   5.25\n",
       "7    4.0   4.26   4.0   3.1   4.0   5.39  19.0  12.50\n",
       "8   12.0  10.84  12.0  9.13  12.0   8.15   8.0   5.56\n",
       "9    7.0   4.82   7.0  7.26   7.0   6.42   8.0   7.91\n",
       "10   5.0   5.68   5.0  4.74   5.0   5.73   8.0   6.89"
      ]
     },
     "execution_count": 21,
     "metadata": {},
     "output_type": "execute_result"
    }
   ],
   "source": [
    "df = df[:11]\n",
    "df"
   ]
  },
  {
   "cell_type": "markdown",
   "id": "66ee9af6",
   "metadata": {},
   "source": [
    "### Q: What is true for the means associated with any of the X columns?"
   ]
  },
  {
   "cell_type": "code",
   "execution_count": 28,
   "id": "2d5f07c7",
   "metadata": {},
   "outputs": [
    {
     "data": {
      "text/plain": [
       "X      9.0\n",
       "X.1    9.0\n",
       "X.2    9.0\n",
       "X.3    9.0\n",
       "dtype: float64"
      ]
     },
     "execution_count": 28,
     "metadata": {},
     "output_type": "execute_result"
    }
   ],
   "source": [
    "df[['X','X.1','X.2','X.3']].mean(axis=0)"
   ]
  },
  {
   "cell_type": "markdown",
   "id": "66a0004a",
   "metadata": {},
   "source": [
    "### A: They're the same"
   ]
  },
  {
   "cell_type": "markdown",
   "id": "a1e1fa79",
   "metadata": {},
   "source": [
    "### Q: What is true for the means associated with any of the Y columns?"
   ]
  },
  {
   "cell_type": "code",
   "execution_count": 29,
   "id": "20a1b79d",
   "metadata": {},
   "outputs": [
    {
     "data": {
      "text/plain": [
       "Y      7.500909\n",
       "Y.1    7.500909\n",
       "Y.2    7.500000\n",
       "Y.3    7.500909\n",
       "dtype: float64"
      ]
     },
     "execution_count": 29,
     "metadata": {},
     "output_type": "execute_result"
    }
   ],
   "source": [
    "df[['Y','Y.1','Y.2','Y.3']].mean(axis=0)"
   ]
  },
  {
   "cell_type": "markdown",
   "id": "53919093",
   "metadata": {},
   "source": [
    "### A: They're the same"
   ]
  },
  {
   "cell_type": "markdown",
   "id": "4a0213ee",
   "metadata": {},
   "source": [
    "### What is true for the standard deviation associated with any of the X columns?"
   ]
  },
  {
   "cell_type": "code",
   "execution_count": 33,
   "id": "c61c74dd",
   "metadata": {},
   "outputs": [
    {
     "data": {
      "text/plain": [
       "X      3.316625\n",
       "X.1    3.316625\n",
       "X.2    3.316625\n",
       "X.3    3.316625\n",
       "dtype: float64"
      ]
     },
     "execution_count": 33,
     "metadata": {},
     "output_type": "execute_result"
    }
   ],
   "source": [
    "df[['X','X.1','X.2','X.3']].std(axis=0)"
   ]
  },
  {
   "cell_type": "markdown",
   "id": "9dad04fa",
   "metadata": {},
   "source": [
    "### A: They're the same"
   ]
  },
  {
   "cell_type": "markdown",
   "id": "52fda545",
   "metadata": {},
   "source": [
    "### What is true for the standard deviation associated with any of the Y columns?"
   ]
  },
  {
   "cell_type": "code",
   "execution_count": 34,
   "id": "0446b236",
   "metadata": {},
   "outputs": [
    {
     "data": {
      "text/plain": [
       "Y      2.031568\n",
       "Y.1    2.031657\n",
       "Y.2    2.030424\n",
       "Y.3    2.030579\n",
       "dtype: float64"
      ]
     },
     "execution_count": 34,
     "metadata": {},
     "output_type": "execute_result"
    }
   ],
   "source": [
    "df[['Y','Y.1','Y.2','Y.3']].std(axis=0)"
   ]
  },
  {
   "cell_type": "markdown",
   "id": "2058b069",
   "metadata": {},
   "source": [
    "### A: They're the same"
   ]
  },
  {
   "cell_type": "code",
   "execution_count": null,
   "id": "0bd15b32",
   "metadata": {},
   "outputs": [],
   "source": []
  }
 ],
 "metadata": {
  "kernelspec": {
   "display_name": "Python (nlu)",
   "language": "python",
   "name": "nlu"
  },
  "language_info": {
   "codemirror_mode": {
    "name": "ipython",
    "version": 3
   },
   "file_extension": ".py",
   "mimetype": "text/x-python",
   "name": "python",
   "nbconvert_exporter": "python",
   "pygments_lexer": "ipython3",
   "version": "3.9.18"
  }
 },
 "nbformat": 4,
 "nbformat_minor": 5
}
